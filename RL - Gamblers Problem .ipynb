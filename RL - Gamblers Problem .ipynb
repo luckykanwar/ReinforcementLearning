{
 "cells": [
  {
   "cell_type": "code",
   "execution_count": 6,
   "metadata": {},
   "outputs": [
    {
     "name": "stdout",
     "output_type": "stream",
     "text": [
      "[0. 0. 0. 0.]\n"
     ]
    }
   ],
   "source": [
    "import numpy as np\n"
   ]
  },
  {
   "cell_type": "code",
   "execution_count": 18,
   "metadata": {},
   "outputs": [],
   "source": [
    "def action_value_calc(s, V, rewards, p_h, discount_factor):\n",
    "    A = np.zeros(101) # 0 - 99 actions\n",
    "    stakes = range(1, min(s, 100-s)+1)\n",
    "    for a in stakes: # We take an average of the chances of winning by including both the heads and tails \n",
    "        A[a] = p_h * (rewards[s+a] + discount_factor * V[s+a]) + (1-p_h) * (rewards[s-a] + discount_factor * V[s-a])\n",
    "    return A\n",
    "\n",
    "def value_iteration_gambler(p_h, theta=0.00001, discount_factor = 1.0):\n",
    "    V = np.zeros(101) # There are 99 states as per the problem but we add two more states where the game ends. \n",
    "                      # When gambler reaches 0 and 100\n",
    "    \n",
    "    # states are 100 in number\n",
    "    \n",
    "    rewards = np.zeros(101) # There are 101 rewards including 0 and winning \n",
    "    rewards[100] = 1 # The winning reward has the value +1\n",
    "    while True:\n",
    "        delta = 0\n",
    "        for s in range(1,100):\n",
    "            A = action_value_calc(s, V, rewards, p_h, discount_factor)\n",
    "            best_action_value = np.max(A)\n",
    "            delta = max(delta, np.abs(best_action_value - V[s]))\n",
    "            V[s] = best_action_value\n",
    "\n",
    "        if delta<theta:\n",
    "            break\n",
    "\n",
    "    policy = np.zeros(100)\n",
    "    for s in range(1,100):\n",
    "        A = action_value_calc(s, V, rewards, p_h, discount_factor)\n",
    "        best_action = np.argmax(A)\n",
    "        policy[s] = best_action\n",
    "        \n",
    "    return policy, V\n",
    "        "
   ]
  },
  {
   "cell_type": "code",
   "execution_count": 19,
   "metadata": {},
   "outputs": [
    {
     "name": "stdout",
     "output_type": "stream",
     "text": [
      "Optimized Policy:\n",
      "[ 0.  1.  2.  3.  4.  5.  6.  7.  8.  9. 10. 11. 12. 13. 11. 10.  9. 17.\n",
      "  7. 19.  5. 21. 22. 23. 24. 25.  1.  2.  3.  4.  5.  6.  7.  8.  9. 10.\n",
      " 11. 12. 38. 11. 40.  9.  8. 43. 44. 45.  4. 47.  2.  1. 50.  1.  2.  3.\n",
      "  4.  5.  6.  7.  8.  9. 10. 11. 12. 13. 11. 15.  9.  8. 18. 19. 20.  4.\n",
      " 22.  2.  1. 25.  1.  2.  3.  4.  5.  6.  7.  8.  9. 10. 11. 12. 12. 11.\n",
      " 10.  9.  8.  7.  6.  5.  4.  3.  2.  1.]\n",
      "\n",
      "Optimized Value Function:\n",
      "[0.00000000e+00 7.24792480e-05 2.90025957e-04 6.95257448e-04\n",
      " 1.16553530e-03 1.77117810e-03 2.78102979e-03 4.03661077e-03\n",
      " 4.66282014e-03 5.60118258e-03 7.08471239e-03 9.04084742e-03\n",
      " 1.11241192e-02 1.56793594e-02 1.61464431e-02 1.69533836e-02\n",
      " 1.86524581e-02 1.98258869e-02 2.24056356e-02 2.73845196e-02\n",
      " 2.83400377e-02 3.04944152e-02 3.61633897e-02 3.84958114e-02\n",
      " 4.44968586e-02 6.25000000e-02 6.27175195e-02 6.33741515e-02\n",
      " 6.45857723e-02 6.59971151e-02 6.78135343e-02 7.08430894e-02\n",
      " 7.46098323e-02 7.64893436e-02 7.93042267e-02 8.37550283e-02\n",
      " 8.96225423e-02 9.58726439e-02 1.09538140e-01 1.10939329e-01\n",
      " 1.13360151e-01 1.18457374e-01 1.21978170e-01 1.29716907e-01\n",
      " 1.44653605e-01 1.47520113e-01 1.53983628e-01 1.70990204e-01\n",
      " 1.77987721e-01 1.95990790e-01 2.50000000e-01 2.50217519e-01\n",
      " 2.50874151e-01 2.52085772e-01 2.53497115e-01 2.55313534e-01\n",
      " 2.58343089e-01 2.62109832e-01 2.63989344e-01 2.66804227e-01\n",
      " 2.71255028e-01 2.77122542e-01 2.83372644e-01 2.97038140e-01\n",
      " 2.98439329e-01 3.00860151e-01 3.05957374e-01 3.09478170e-01\n",
      " 3.17216907e-01 3.32153605e-01 3.35020113e-01 3.41483628e-01\n",
      " 3.58490204e-01 3.65487721e-01 3.83490790e-01 4.37500000e-01\n",
      " 4.38155614e-01 4.40122836e-01 4.43757317e-01 4.47992008e-01\n",
      " 4.53441271e-01 4.62529483e-01 4.73829497e-01 4.79468031e-01\n",
      " 4.87912680e-01 5.01265085e-01 5.18867653e-01 5.37618093e-01\n",
      " 5.78616710e-01 5.82817988e-01 5.90080953e-01 6.05372123e-01\n",
      " 6.15934510e-01 6.39150739e-01 6.83962533e-01 6.92560715e-01\n",
      " 7.11950883e-01 7.62971899e-01 7.83963162e-01 8.37972371e-01\n",
      " 0.00000000e+00]\n",
      "\n"
     ]
    }
   ],
   "source": [
    "policy, v = value_iteration_gambler(0.25)\n",
    "\n",
    "print(\"Optimized Policy:\")\n",
    "print(policy)\n",
    "print(\"\")\n",
    "\n",
    "print(\"Optimized Value Function:\")\n",
    "print(v)\n",
    "print(\"\")"
   ]
  },
  {
   "cell_type": "code",
   "execution_count": null,
   "metadata": {},
   "outputs": [],
   "source": []
  }
 ],
 "metadata": {
  "kernelspec": {
   "display_name": "Python 3",
   "language": "python",
   "name": "python3"
  },
  "language_info": {
   "codemirror_mode": {
    "name": "ipython",
    "version": 3
   },
   "file_extension": ".py",
   "mimetype": "text/x-python",
   "name": "python",
   "nbconvert_exporter": "python",
   "pygments_lexer": "ipython3",
   "version": "3.6.4"
  }
 },
 "nbformat": 4,
 "nbformat_minor": 2
}
