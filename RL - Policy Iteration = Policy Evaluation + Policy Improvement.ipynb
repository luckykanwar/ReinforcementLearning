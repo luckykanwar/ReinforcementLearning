{
 "cells": [
  {
   "cell_type": "code",
   "execution_count": 30,
   "metadata": {},
   "outputs": [],
   "source": [
    "import numpy as np\n",
    "from gridworld import GridworldEnv\n"
   ]
  },
  {
   "cell_type": "code",
   "execution_count": 31,
   "metadata": {},
   "outputs": [
    {
     "name": "stdout",
     "output_type": "stream",
     "text": [
      "4\n",
      "[4, 4]\n"
     ]
    }
   ],
   "source": [
    "env = GridworldEnv()\n",
    "print(env.nA)\n",
    "print(env.shape)"
   ]
  },
  {
   "cell_type": "markdown",
   "metadata": {},
   "source": [
    "Policy is a matrix where each row specifies a state and each column is a possible action that can be taken in that state. The matrix provides the probability of taking an action when in a certain state.\n",
    "\n",
    "Policy iteration has two steps to it -\n",
    "a. Policy Evaluation - Iterative policy evaluation used to find the v(s)\n",
    "b. Policy Improvement - Act greedily to find the action which gives the most expected reward and update the policy for that state to get an improved policy "
   ]
  },
  {
   "cell_type": "code",
   "execution_count": 32,
   "metadata": {},
   "outputs": [],
   "source": [
    "# Iterative policy evaluation \n",
    "\n",
    "def policy_eval(policy, env, discount_factor = 1.0, theta = 0.00001):\n",
    "    V = np.zeros(env.nS)\n",
    "    while True:\n",
    "        delta = 0\n",
    "        for s in range(env.nS):\n",
    "            v = 0\n",
    "            for a, action_prob in enumerate(policy[s]):\n",
    "                #print(action, s, a)\n",
    "                #for prob, next_state, reward, goal_or_not in env.P[s][a]:\n",
    "                i = 0\n",
    "                prob, next_state, reward, goal_or_not = env.P[s][a][i]\n",
    "                i += 1\n",
    "                v += action_prob * prob * (reward + discount_factor * V[next_state])\n",
    "                    \n",
    "            delta = max(delta, np.abs(v - V[s]))\n",
    "            V[s] = v\n",
    "        \n",
    "        if delta < theta:\n",
    "            break\n",
    "    return np.array(V)"
   ]
  },
  {
   "cell_type": "code",
   "execution_count": 33,
   "metadata": {},
   "outputs": [],
   "source": [
    "def action_value_calc(env, state, V, discount_factor):\n",
    "    A = np.zeros(env.nA)\n",
    "     \n",
    "    for a in range(env.nA):\n",
    "        i = 0\n",
    "        prob, next_state, reward, done = env.P[state][a][i]\n",
    "        i += 1\n",
    "        A[a] += prob * (reward + discount_factor * V[next_state])\n",
    "    return A   \n",
    "\n",
    "def policy_improv(env, discount_factor = 1.0):\n",
    "    policy = np.ones([env.nS, env.nA]) / env.nA\n",
    "    \n",
    "    while True:\n",
    "        V = policy_eval(policy, env)\n",
    "        policy_optimal = True\n",
    "        \n",
    "        for s in range(env.nS):\n",
    "            chosen_action = np.argmax(policy[s])  # best action that can be chosen based on the current policy for that state\n",
    "            \n",
    "            A = action_value_calc(env, s, V, discount_factor) # \n",
    "            best_action = np.argmax(A) # best action value function index that can be chosen based on the state\n",
    "            # np.argmax returns the index of the array\n",
    "            \n",
    "            if chosen_action != best_action:  # if both the actions are the same then the policy is the optimal policy else we need to converge further\n",
    "                policy_optimal = False\n",
    "            # np.eye creates an identity matrix with dimensions mxm as defined in env.nA - matrix with 1 on the diagonal\n",
    "            # This line here below selects a row from an identity matrix based on the best action index that we get from the top\n",
    "            policy[s] = np.eye(env.nA)[best_action] # updating the policy to get a better policy\n",
    "        \n",
    "        if policy_optimal == True:\n",
    "            return policy, V"
   ]
  },
  {
   "cell_type": "code",
   "execution_count": 34,
   "metadata": {},
   "outputs": [
    {
     "data": {
      "text/plain": [
       "(array([[1., 0., 0., 0.],\n",
       "        [0., 0., 0., 1.],\n",
       "        [0., 0., 0., 1.],\n",
       "        [0., 0., 1., 0.],\n",
       "        [1., 0., 0., 0.],\n",
       "        [1., 0., 0., 0.],\n",
       "        [1., 0., 0., 0.],\n",
       "        [0., 0., 1., 0.],\n",
       "        [1., 0., 0., 0.],\n",
       "        [1., 0., 0., 0.],\n",
       "        [0., 1., 0., 0.],\n",
       "        [0., 0., 1., 0.],\n",
       "        [1., 0., 0., 0.],\n",
       "        [0., 1., 0., 0.],\n",
       "        [0., 1., 0., 0.],\n",
       "        [1., 0., 0., 0.]]),\n",
       " array([ 0., -1., -2., -3., -1., -2., -3., -2., -2., -3., -2., -1., -3.,\n",
       "        -2., -1.,  0.]))"
      ]
     },
     "execution_count": 34,
     "metadata": {},
     "output_type": "execute_result"
    }
   ],
   "source": [
    "policy_improv(env)"
   ]
  }
 ],
 "metadata": {
  "kernelspec": {
   "display_name": "Python 3",
   "language": "python",
   "name": "python3"
  },
  "language_info": {
   "codemirror_mode": {
    "name": "ipython",
    "version": 3
   },
   "file_extension": ".py",
   "mimetype": "text/x-python",
   "name": "python",
   "nbconvert_exporter": "python",
   "pygments_lexer": "ipython3",
   "version": "3.6.4"
  }
 },
 "nbformat": 4,
 "nbformat_minor": 2
}
